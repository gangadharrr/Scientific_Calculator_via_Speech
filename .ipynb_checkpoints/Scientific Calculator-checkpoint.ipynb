{
 "cells": [
  {
   "cell_type": "raw",
   "id": "cd2c1a73",
   "metadata": {},
   "source": [
    "!pip install SpeechRecognition pyttsx3 python3-pyaudio"
   ]
  },
  {
   "cell_type": "code",
   "execution_count": 1,
   "id": "86983f70",
   "metadata": {},
   "outputs": [],
   "source": [
    "import nltk\n",
    "from nltk.corpus import stopwords\n",
    "import re\n",
    "import speech_recognition as sr\n",
    "import pyttsx3\n",
    "from math import *"
   ]
  },
  {
   "cell_type": "code",
   "execution_count": 2,
   "id": "10e20228",
   "metadata": {},
   "outputs": [],
   "source": [
    "stop=stopwords.words('english')\n",
    "def convert_to_numbers(s):\n",
    "    words_to_numbers = {\n",
    "        'one': '1',\n",
    "        'two': '2',\n",
    "        'three': '3',\n",
    "        'four': '4',\n",
    "        'five': '5',\n",
    "        'six': '6',\n",
    "        'seven': '7',\n",
    "        'eight': '8',\n",
    "        'nine': '9',\n",
    "        'zero': '0',\n",
    "        'plus':'+',\n",
    "        'minus':'-',\n",
    "        'dash':'-',\n",
    "        'multiplied by':'*',\n",
    "        'divided by':'/',\n",
    "        'equal to':'=',\n",
    "        'equals to':'=',\n",
    "        'equals':'=',\n",
    "        'x':'*',\n",
    "        'X':'*',\n",
    "        'into':'*',\n",
    "        'degrees':'',\n",
    "        'sign':'sin',\n",
    "        'cause':'cos',\n",
    "        '°':''\n",
    "    }\n",
    " \n",
    "    pattern = re.compile(r'\\b(' + '|'.join(words_to_numbers.keys()) + r')\\b')\n",
    "    s=re.sub(pattern, lambda x: words_to_numbers.get(x.group(),''), s)\n",
    "    pattern = re.compile(r'\\b(' + '|'.join(stop) + r')\\b')\n",
    "    s=re.sub(pattern, '', s)\n",
    "    pattern = re.compile(\"√[1-9]+[0-9]+(?:\\.[0-9]*[1-9]+)*\")\n",
    "    s=re.sub(pattern,lambda x: str(eval(x.group().replace('√',''))**(0.5)), i)\n",
    "    return s"
   ]
  },
  {
   "cell_type": "code",
   "execution_count": 3,
   "id": "6209d4db",
   "metadata": {},
   "outputs": [],
   "source": [
    "add=lambda x,y:x+y\n",
    "sub=lambda x,y:x-y\n",
    "mul=lambda x,y:x*y\n",
    "div=lambda x,y:x/y\n",
    "root=lambda x:str(eval(x.replace('√',''))**(0.5))\n",
    "    "
   ]
  },
  {
   "cell_type": "code",
   "execution_count": 5,
   "id": "f0b1cdcc",
   "metadata": {
    "scrolled": true
   },
   "outputs": [
    {
     "name": "stdout",
     "output_type": "stream",
     "text": [
      "result2:\n",
      "{   'alternative': [   {   'confidence': 0.83867747,\n",
      "                           'transcript': 'tan 60 degrees'},\n",
      "                       {'transcript': 'tan 60°'}],\n",
      "    'final': True}\n",
      "tan 60 degrees\n",
      "['tan', '60']\n",
      "Result of 'tan 60 degrees' is : 1.7320508075688767\n",
      "result2:\n",
      "[]\n",
      "1\n"
     ]
    },
    {
     "ename": "KeyboardInterrupt",
     "evalue": "",
     "output_type": "error",
     "traceback": [
      "\u001b[1;31m---------------------------------------------------------------------------\u001b[0m",
      "\u001b[1;31mKeyboardInterrupt\u001b[0m                         Traceback (most recent call last)",
      "Cell \u001b[1;32mIn[5], line 11\u001b[0m\n\u001b[0;32m      9\u001b[0m \u001b[38;5;28;01mwith\u001b[39;00m sr\u001b[38;5;241m.\u001b[39mMicrophone() \u001b[38;5;28;01mas\u001b[39;00m source2:\n\u001b[0;32m     10\u001b[0m     r\u001b[38;5;241m.\u001b[39madjust_for_ambient_noise(source2, duration\u001b[38;5;241m=\u001b[39m\u001b[38;5;241m0.5\u001b[39m)\n\u001b[1;32m---> 11\u001b[0m     audio2 \u001b[38;5;241m=\u001b[39m \u001b[43mr\u001b[49m\u001b[38;5;241;43m.\u001b[39;49m\u001b[43mlisten\u001b[49m\u001b[43m(\u001b[49m\u001b[43msource2\u001b[49m\u001b[43m,\u001b[49m\u001b[43mphrase_time_limit\u001b[49m\u001b[38;5;241;43m=\u001b[39;49m\u001b[38;5;241;43m5\u001b[39;49m\u001b[43m)\u001b[49m\n\u001b[0;32m     12\u001b[0m     MyText \u001b[38;5;241m=\u001b[39m r\u001b[38;5;241m.\u001b[39mrecognize_google(audio2)\n\u001b[0;32m     13\u001b[0m     MyText \u001b[38;5;241m=\u001b[39m MyText\u001b[38;5;241m.\u001b[39mlower()\n",
      "File \u001b[1;32m~\\anaconda3\\lib\\site-packages\\speech_recognition\\__init__.py:709\u001b[0m, in \u001b[0;36mRecognizer.listen\u001b[1;34m(self, source, timeout, phrase_time_limit, snowboy_configuration)\u001b[0m\n\u001b[0;32m    706\u001b[0m \u001b[38;5;28;01mif\u001b[39;00m phrase_time_limit \u001b[38;5;129;01mand\u001b[39;00m elapsed_time \u001b[38;5;241m-\u001b[39m phrase_start_time \u001b[38;5;241m>\u001b[39m phrase_time_limit:\n\u001b[0;32m    707\u001b[0m     \u001b[38;5;28;01mbreak\u001b[39;00m\n\u001b[1;32m--> 709\u001b[0m buffer \u001b[38;5;241m=\u001b[39m \u001b[43msource\u001b[49m\u001b[38;5;241;43m.\u001b[39;49m\u001b[43mstream\u001b[49m\u001b[38;5;241;43m.\u001b[39;49m\u001b[43mread\u001b[49m\u001b[43m(\u001b[49m\u001b[43msource\u001b[49m\u001b[38;5;241;43m.\u001b[39;49m\u001b[43mCHUNK\u001b[49m\u001b[43m)\u001b[49m\n\u001b[0;32m    710\u001b[0m \u001b[38;5;28;01mif\u001b[39;00m \u001b[38;5;28mlen\u001b[39m(buffer) \u001b[38;5;241m==\u001b[39m \u001b[38;5;241m0\u001b[39m: \u001b[38;5;28;01mbreak\u001b[39;00m  \u001b[38;5;66;03m# reached end of the stream\u001b[39;00m\n\u001b[0;32m    711\u001b[0m frames\u001b[38;5;241m.\u001b[39mappend(buffer)\n",
      "File \u001b[1;32m~\\anaconda3\\lib\\site-packages\\speech_recognition\\__init__.py:211\u001b[0m, in \u001b[0;36mMicrophone.MicrophoneStream.read\u001b[1;34m(self, size)\u001b[0m\n\u001b[0;32m    210\u001b[0m \u001b[38;5;28;01mdef\u001b[39;00m \u001b[38;5;21mread\u001b[39m(\u001b[38;5;28mself\u001b[39m, size):\n\u001b[1;32m--> 211\u001b[0m     \u001b[38;5;28;01mreturn\u001b[39;00m \u001b[38;5;28;43mself\u001b[39;49m\u001b[38;5;241;43m.\u001b[39;49m\u001b[43mpyaudio_stream\u001b[49m\u001b[38;5;241;43m.\u001b[39;49m\u001b[43mread\u001b[49m\u001b[43m(\u001b[49m\u001b[43msize\u001b[49m\u001b[43m,\u001b[49m\u001b[43m \u001b[49m\u001b[43mexception_on_overflow\u001b[49m\u001b[38;5;241;43m=\u001b[39;49m\u001b[38;5;28;43;01mFalse\u001b[39;49;00m\u001b[43m)\u001b[49m\n",
      "File \u001b[1;32m~\\anaconda3\\lib\\site-packages\\pyaudio\\__init__.py:570\u001b[0m, in \u001b[0;36mPyAudio.Stream.read\u001b[1;34m(self, num_frames, exception_on_overflow)\u001b[0m\n\u001b[0;32m    567\u001b[0m \u001b[38;5;28;01mif\u001b[39;00m \u001b[38;5;129;01mnot\u001b[39;00m \u001b[38;5;28mself\u001b[39m\u001b[38;5;241m.\u001b[39m_is_input:\n\u001b[0;32m    568\u001b[0m     \u001b[38;5;28;01mraise\u001b[39;00m \u001b[38;5;167;01mIOError\u001b[39;00m(\u001b[38;5;124m\"\u001b[39m\u001b[38;5;124mNot input stream\u001b[39m\u001b[38;5;124m\"\u001b[39m,\n\u001b[0;32m    569\u001b[0m                   paCanNotReadFromAnOutputOnlyStream)\n\u001b[1;32m--> 570\u001b[0m \u001b[38;5;28;01mreturn\u001b[39;00m \u001b[43mpa\u001b[49m\u001b[38;5;241;43m.\u001b[39;49m\u001b[43mread_stream\u001b[49m\u001b[43m(\u001b[49m\u001b[38;5;28;43mself\u001b[39;49m\u001b[38;5;241;43m.\u001b[39;49m\u001b[43m_stream\u001b[49m\u001b[43m,\u001b[49m\u001b[43m \u001b[49m\u001b[43mnum_frames\u001b[49m\u001b[43m,\u001b[49m\n\u001b[0;32m    571\u001b[0m \u001b[43m                      \u001b[49m\u001b[43mexception_on_overflow\u001b[49m\u001b[43m)\u001b[49m\n",
      "\u001b[1;31mKeyboardInterrupt\u001b[0m: "
     ]
    }
   ],
   "source": [
    "r = sr.Recognizer()\n",
    "def SpeakText(command):\n",
    "    engine = pyttsx3.init()\n",
    "    engine.say(command)\n",
    "    engine.runAndWait()\n",
    "     \n",
    "while(1):  \n",
    "    try:\n",
    "        with sr.Microphone() as source2:\n",
    "            r.adjust_for_ambient_noise(source2, duration=0.5)\n",
    "            audio2 = r.listen(source2,phrase_time_limit=5)\n",
    "            MyText = r.recognize_google(audio2)\n",
    "            MyText = MyText.lower()\n",
    "            print(MyText)\n",
    "            _MyText=MyText\n",
    "            if(MyText.find('addition')!=-1):\n",
    "                MyText=MyText[MyText.find('addition'):]\n",
    "                MyText=list(convert_to_numbers(MyText).split())\n",
    "                print(MyText)\n",
    "                print(f\"Result of '{_MyText}' is : {eval(MyText[-2])+eval(MyText[-1])}\")\n",
    "            elif(MyText.find('subtraction')!=-1):\n",
    "                MyText=MyText[MyText.find('subtraction'):]\n",
    "                MyText=list(convert_to_numbers(MyText).split())\n",
    "                print(MyText)\n",
    "                print(f\"Result of '{_MyText}' is : {eval(MyText[-2])-eval(MyText[-1])}\")\n",
    "            elif(MyText.find('multiplication')!=-1):\n",
    "                MyText=MyText[MyText.find('multiplication'):]\n",
    "                MyText=list(convert_to_numbers(MyText).split())\n",
    "                print(MyText)\n",
    "                print(f\"Result of '{_MyText}' is : {eval(MyText[-2])*eval(MyText[-1])}\")\n",
    "            elif(MyText.find('division')!=-1):\n",
    "                MyText=MyText[MyText.find('division'):]\n",
    "                MyText=list(convert_to_numbers(MyText).split())\n",
    "                print(MyText)\n",
    "                print(f\"Result of '{_MyText}' is : {eval(MyText[-2])/eval(MyText[-1])}\")\n",
    "            elif(MyText.find('sign')!=-1):\n",
    "                MyText=MyText[MyText.find('sign'):]\n",
    "                MyText=list(convert_to_numbers(MyText).split())\n",
    "                print(MyText)\n",
    "                print(f\"Result of '{_MyText}' is : {sin(eval(MyText[-1])*(pi/180))}\")\n",
    "            elif(MyText.find('cause')!=-1):\n",
    "                MyText=MyText[MyText.find('cause'):]\n",
    "                MyText=list(convert_to_numbers(MyText).split())\n",
    "                print(MyText)\n",
    "                print(f\"Result of '{_MyText}' is : {cos(eval(MyText[-1])*(pi/180))}\")\n",
    "            elif(MyText.find('cost')!=-1):\n",
    "                MyText=MyText[MyText.find('cost'):]\n",
    "                MyText=list(convert_to_numbers(MyText).split())\n",
    "                print(MyText)\n",
    "                print(f\"Result of '{_MyText}' is : {cos(eval(MyText[-1])*(pi/180))}\")\n",
    "            elif(MyText.find('tan')!=-1):\n",
    "                MyText=MyText[MyText.find('tan'):]\n",
    "                MyText=list(convert_to_numbers(MyText).split())\n",
    "                print(MyText)\n",
    "                print(f\"Result of '{_MyText}' is : {tan(eval(MyText[-1])*(pi/180))}\")\n",
    "            elif(MyText.find('evaluate')!=-1):\n",
    "                MyText=MyText[MyText.find('evaluate'):]\n",
    "                MyText=list(convert_to_numbers(MyText).split(\"equation\"))\n",
    "                print(MyText)\n",
    "                print(f\"Result of '{_MyText}' is : {eval(MyText[-1])}\")\n",
    "            else:\n",
    "                try:\n",
    "                    MyText=[i for i in convert_to_numbers(MyText).split() if not i.isalpha()]\n",
    "                    print(MyText)\n",
    "                    print(f\"Result of '{_MyText}' is : {eval(''.join(MyText))}\")\n",
    "                except Exception as e:\n",
    "                    print(e)\n",
    "                    print(\"!!!!Try Again!!!!\")\n",
    "              \n",
    "           \n",
    "  \n",
    "    except sr.RequestError as e:\n",
    "        print(\"Could not request results; {0}\".format(e))\n",
    "    except sr.UnknownValueError:\n",
    "        print(1)"
   ]
  },
  {
   "cell_type": "code",
   "execution_count": 155,
   "id": "6c99c001",
   "metadata": {},
   "outputs": [
    {
     "data": {
      "text/plain": [
       "'20'"
      ]
     },
     "execution_count": 155,
     "metadata": {},
     "output_type": "execute_result"
    }
   ],
   "source": [
    "i='20'\n",
    "pattern = re.compile(\"√\\d*\")\n",
    "re.sub(pattern,lambda x: str(eval(x.group().replace('√',''))**(0.5)), i)"
   ]
  },
  {
   "cell_type": "code",
   "execution_count": null,
   "id": "86a43659",
   "metadata": {},
   "outputs": [],
   "source": [
    "str(eval(i.replace('√',''))**(0.5)) if i.find('√')!=-1 else i "
   ]
  },
  {
   "cell_type": "code",
   "execution_count": null,
   "id": "d2e886fc",
   "metadata": {},
   "outputs": [],
   "source": [
    "sin((45)*(pi/180))"
   ]
  },
  {
   "cell_type": "code",
   "execution_count": null,
   "id": "eb7ebb9c",
   "metadata": {},
   "outputs": [],
   "source": []
  }
 ],
 "metadata": {
  "kernelspec": {
   "display_name": "Python 3 (ipykernel)",
   "language": "python",
   "name": "python3"
  },
  "language_info": {
   "codemirror_mode": {
    "name": "ipython",
    "version": 3
   },
   "file_extension": ".py",
   "mimetype": "text/x-python",
   "name": "python",
   "nbconvert_exporter": "python",
   "pygments_lexer": "ipython3",
   "version": "3.8.8"
  }
 },
 "nbformat": 4,
 "nbformat_minor": 5
}
